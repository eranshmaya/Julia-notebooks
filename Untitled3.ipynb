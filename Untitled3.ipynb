{
 "cells": [
  {
   "cell_type": "code",
   "execution_count": 3,
   "id": "19f83bb8-447c-42da-a409-9dba0bdf9531",
   "metadata": {},
   "outputs": [
    {
     "data": {
      "text/plain": [
       "f (generic function with 1 method)"
      ]
     },
     "execution_count": 3,
     "metadata": {},
     "output_type": "execute_result"
    }
   ],
   "source": [
    "using Distributions, QuadGK\n",
    "\n",
    "# Define the function phi(q)\n",
    "function phi(q)\n",
    "    return max(2*q - 1, 0)\n",
    "end\n",
    "\n",
    "# Define the posterior ratio function inside the expectation\n",
    "function posterior_ratio(q, s, mu_G, mu_B, epsilon)\n",
    "    numerator = q * exp(-((s - mu_G)^2) / (2 * epsilon))\n",
    "    denominator = numerator + (1 - q) * exp(-((s - mu_B)^2) / (2 * epsilon))\n",
    "    return numerator / denominator\n",
    "end\n",
    "\n",
    "# Define the mixture PDF\n",
    "function mixture_pdf(s, q, mu_G, mu_B, epsilon)\n",
    "    pdf_G = pdf(Normal(mu_G, sqrt(epsilon)), s)\n",
    "    pdf_B = pdf(Normal(mu_B, sqrt(epsilon)), s)\n",
    "    return q * pdf_G + (1 - q) * pdf_B\n",
    "end\n",
    "\n",
    "# Define the function f(q)\n",
    "function f(q, mu_G, mu_B, epsilon)\n",
    "    # Define the integrand for the expectation\n",
    "    integrand(s) = phi(posterior_ratio(q, s, mu_G, mu_B, epsilon)) * mixture_pdf(s, q, mu_G, mu_B, epsilon)\n",
    "    \n",
    "    # Numerically integrate the expectation over s\n",
    "    result, _ = quadgk(integrand, -Inf, Inf)  # Integrating over the whole real line\n",
    "    return result\n",
    "end\n",
    "\n",
    "\n"
   ]
  },
  {
   "cell_type": "code",
   "execution_count": 4,
   "id": "a9230f1b-e58b-4fc7-bad6-2ddeeebc438f",
   "metadata": {},
   "outputs": [
    {
     "data": {
      "text/plain": [
       "g (generic function with 1 method)"
      ]
     },
     "execution_count": 4,
     "metadata": {},
     "output_type": "execute_result"
    }
   ],
   "source": [
    "# Define the posterior ratio for the second function\n",
    "function posterior_ratio_2(q, s, x, mu_G, mu_B, epsilon)\n",
    "    # Calculate numerator and denominator for the posterior ratio\n",
    "    exp_G_s = exp(-((s - mu_G)^2) / (2 * epsilon))\n",
    "    exp_G_x = exp(-((x - 1)^2) / 2)\n",
    "    exp_B_s = exp(-((s - mu_B)^2) / (2 * epsilon))\n",
    "    exp_B_x = exp(-((x + 1)^2) / 2)\n",
    "    \n",
    "    numerator = q * exp_G_s * exp_G_x\n",
    "    denominator = numerator + (1 - q) * exp_B_s * exp_B_x\n",
    "    \n",
    "    return numerator / denominator\n",
    "end\n",
    "\n",
    "# Define the mixture PDF for the joint distribution of (s, x)\n",
    "function mixture_pdf_2(s, x, q, mu_G, mu_B, epsilon)\n",
    "    # PDFs for s and x\n",
    "    pdf_G_s = pdf(Normal(mu_G^2, sqrt(epsilon)), s)\n",
    "    pdf_G_x = pdf(Normal(1, 1), x)\n",
    "    pdf_B_s = pdf(Normal(mu_B^2, sqrt(epsilon)), s)\n",
    "    pdf_B_x = pdf(Normal(-1, 1), x)\n",
    "    \n",
    "    # Mixture of the joint distributions\n",
    "    return q * pdf_G_s * pdf_G_x + (1 - q) * pdf_B_s * pdf_B_x\n",
    "end\n",
    "\n",
    "# Define the second function g(q)\n",
    "function g(q, mu_G, mu_B, epsilon)\n",
    "    # Define the integrand for the expectation over s and x\n",
    "    integrand(s, x) = phi(posterior_ratio_2(q, s, x, mu_G, mu_B, epsilon)) * mixture_pdf_2(s, x, q, mu_G, mu_B, epsilon)\n",
    "    \n",
    "    # Numerically integrate the expectation over s and x\n",
    "    result, _ = quadgk((s, x) -> integrand(s, x), -Inf, Inf, -Inf, Inf)\n",
    "    return result\n",
    "end"
   ]
  },
  {
   "cell_type": "code",
   "execution_count": 11,
   "id": "8fbd4ca2-3b26-41e5-a03e-391e8ce24b83",
   "metadata": {},
   "outputs": [
    {
     "data": {
      "text/plain": [
       "plot_functions (generic function with 2 methods)"
      ]
     },
     "execution_count": 11,
     "metadata": {},
     "output_type": "execute_result"
    }
   ],
   "source": [
    "function plot_functions(f, g; mu_G, mu_B, epsilon)\n",
    "    q_values = range(0, stop=1, length=100)  # Generate 100 points from q=0 to q=1\n",
    "    f_values = [f(q, mu_G, mu_B, epsilon) for q in q_values]  # Evaluate f(q) at each q\n",
    "    g_values = [g(q, mu_G, mu_B, epsilon) for q in q_values]  # Evaluate g(q) at each q\n",
    "\n",
    "    # Plot both functions\n",
    "    plot(q_values, f_values, label=\"f(q)\", linewidth=2, title=\"Functions f(q) and g(q)\", xlabel=\"q\", ylabel=\"Value\")\n",
    "    plot!(q_values, g_values, label=\"g(q)\", linewidth=2, linestyle=:dash)\n",
    "end\n"
   ]
  },
  {
   "cell_type": "code",
   "execution_count": 12,
   "id": "112a76b6-18db-4618-9309-024b61d7ffc3",
   "metadata": {},
   "outputs": [
    {
     "ename": "LoadError",
     "evalue": "DomainError with 0.0:\nintegrand produced NaN in the interval (-1.0, 1.0)",
     "output_type": "error",
     "traceback": [
      "DomainError with 0.0:\nintegrand produced NaN in the interval (-1.0, 1.0)",
      "",
      "Stacktrace:",
      "  [1] evalrule(f::QuadGK.var\"#12#21\"{var\"#integrand#4\"{Float64, Float64, Float64, Float64}, Float64}, a::Float64, b::Float64, x::Vector{Float64}, w::Vector{Float64}, wg::Vector{Float64}, nrm::typeof(LinearAlgebra.norm))",
      "    @ QuadGK ~/.julia/packages/QuadGK/rjZYB/src/evalrule.jl:39",
      "  [2] #8",
      "    @ ~/.julia/packages/QuadGK/rjZYB/src/adapt.jl:54 [inlined]",
      "  [3] ntuple",
      "    @ ./ntuple.jl:48 [inlined]",
      "  [4] do_quadgk(f::QuadGK.var\"#12#21\"{var\"#integrand#4\"{Float64, Float64, Float64, Float64}, Float64}, s::Tuple{Float64, Float64}, n::Int64, atol::Nothing, rtol::Nothing, maxevals::Int64, nrm::typeof(LinearAlgebra.norm), _segbuf::Nothing, eval_segbuf::Nothing)",
      "    @ QuadGK ~/.julia/packages/QuadGK/rjZYB/src/adapt.jl:52",
      "  [5] #50",
      "    @ ~/.julia/packages/QuadGK/rjZYB/src/api.jl:83 [inlined]",
      "  [6] handle_infinities(workfunc::QuadGK.var\"#50#51\"{Nothing, Nothing, Int64, Int64, typeof(LinearAlgebra.norm), Nothing, Nothing}, f::var\"#integrand#4\"{Float64, Float64, Float64, Float64}, s::Tuple{Float64, Float64})",
      "    @ QuadGK ~/.julia/packages/QuadGK/rjZYB/src/adapt.jl:169",
      "  [7] #quadgk#49",
      "    @ ~/.julia/packages/QuadGK/rjZYB/src/api.jl:82 [inlined]",
      "  [8] quadgk",
      "    @ ~/.julia/packages/QuadGK/rjZYB/src/api.jl:80 [inlined]",
      "  [9] f",
      "    @ ./In[3]:28 [inlined]",
      " [10] #17",
      "    @ ./none:0 [inlined]",
      " [11] iterate",
      "    @ ./generator.jl:47 [inlined]",
      " [12] collect(itr::Base.Generator{StepRangeLen{Float64, Base.TwicePrecision{Float64}, Base.TwicePrecision{Float64}, Int64}, var\"#17#19\"{Float64, Float64, Float64, typeof(f)}})",
      "    @ Base ./array.jl:834",
      " [13] plot_functions(f::typeof(f), g::typeof(g); mu_G::Float64, mu_B::Float64, epsilon::Float64)",
      "    @ Main ./In[11]:3",
      " [14] top-level scope",
      "    @ In[12]:1"
     ]
    }
   ],
   "source": [
    "plot_functions(f, g; mu_G=1.0, mu_B=-1.0, epsilon=0.5)\n",
    "\n"
   ]
  },
  {
   "cell_type": "code",
   "execution_count": null,
   "id": "e66f8d0f-f8a5-48c8-b5ad-6b0805837d08",
   "metadata": {},
   "outputs": [],
   "source": []
  }
 ],
 "metadata": {
  "kernelspec": {
   "display_name": "Julia 1.10.5",
   "language": "julia",
   "name": "julia-1.10"
  },
  "language_info": {
   "file_extension": ".jl",
   "mimetype": "application/julia",
   "name": "julia",
   "version": "1.10.5"
  }
 },
 "nbformat": 4,
 "nbformat_minor": 5
}
